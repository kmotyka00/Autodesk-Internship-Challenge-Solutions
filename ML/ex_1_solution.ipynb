{
  "cells": [
    {
      "cell_type": "markdown",
      "metadata": {
        "id": "sKX77OifF_aG"
      },
      "source": [
        "### Import packages"
      ]
    },
    {
      "cell_type": "code",
      "execution_count": 2,
      "metadata": {
        "id": "fPMN0mXjF_aI"
      },
      "outputs": [],
      "source": [
        "import pandas as pd\n",
        "import seaborn as sns\n",
        "import matplotlib.pyplot as plt\n",
        "import numpy as np\n",
        "from sklearn.linear_model import LogisticRegression\n",
        "from sklearn.tree import DecisionTreeClassifier\n",
        "from sklearn import tree"
      ]
    },
    {
      "cell_type": "markdown",
      "metadata": {
        "id": "ij6PCEJ2F_aJ"
      },
      "source": [
        "### Load data"
      ]
    },
    {
      "cell_type": "code",
      "execution_count": 3,
      "metadata": {
        "colab": {
          "base_uri": "https://localhost:8080/"
        },
        "id": "9mNR4R0NF_aK",
        "outputId": "458f8a99-23db-4735-e8dd-8be4bf54da54"
      },
      "outputs": [
        {
          "name": "stdout",
          "output_type": "stream",
          "text": [
            "Amount of data: 380\n"
          ]
        }
      ],
      "source": [
        "data = pd.read_csv('Customers.csv')\n",
        "\n",
        "print(f\"Amount of data: {data.shape[0]}\")"
      ]
    },
    {
      "cell_type": "markdown",
      "metadata": {
        "id": "2Kb-Gjh6F_aK"
      },
      "source": [
        "### Check if there are not any null values"
      ]
    },
    {
      "cell_type": "code",
      "execution_count": 4,
      "metadata": {
        "colab": {
          "base_uri": "https://localhost:8080/"
        },
        "id": "11JGk9K6F_aK",
        "outputId": "d8b0ff79-61fe-4b1e-e175-bcdf0dba4f8e"
      },
      "outputs": [
        {
          "name": "stdout",
          "output_type": "stream",
          "text": [
            "<class 'pandas.core.frame.DataFrame'>\n",
            "RangeIndex: 380 entries, 0 to 379\n",
            "Data columns (total 3 columns):\n",
            " #   Column     Non-Null Count  Dtype\n",
            "---  ------     --------------  -----\n",
            " 0   Age        380 non-null    int64\n",
            " 1   Salary     380 non-null    int64\n",
            " 2   Purchased  380 non-null    int64\n",
            "dtypes: int64(3)\n",
            "memory usage: 9.0 KB\n"
          ]
        }
      ],
      "source": [
        "data.info()"
      ]
    },
    {
      "cell_type": "code",
      "execution_count": 5,
      "metadata": {
        "id": "wuaerDMyF_aL"
      },
      "outputs": [],
      "source": [
        "X = data[['Age', 'Salary']]\n",
        "y = data['Purchased']"
      ]
    },
    {
      "cell_type": "markdown",
      "metadata": {
        "id": "4F7TeKKZF_aL"
      },
      "source": [
        "### Visualize data"
      ]
    },
    {
      "cell_type": "code",
      "execution_count": 13,
      "metadata": {
        "colab": {
          "base_uri": "https://localhost:8080/",
          "height": 265
        },
        "id": "kjhTGDw0F_aL",
        "outputId": "5330bc09-f7f2-46a9-88aa-01f79eadd88e"
      },
      "outputs": [
        {
          "data": {
            "image/png": "[encoded data removed]",
            "text/plain": [
              "<Figure size 432x288 with 1 Axes>"
            ]
          },
          "metadata": {
            "needs_background": "light"
          },
          "output_type": "display_data"
        }
      ],
      "source": [
        "labels_names = {0: \"Not bought\", 1: \"Bought\"}\n",
        "for label in np.unique(y):\n",
        "    plt.scatter(X['Salary'][y==label], X['Age'][y==label], label=labels_names[label])\n",
        "plt.legend()\n",
        "plt.title(\"Training data divided into classes\")\n",
        "plt.xlabel(\"Salary\")\n",
        "plt.ylabel(\"Age\")\n",
        "plt.show()"
      ]
    },
    {
      "cell_type": "markdown",
      "metadata": {
        "id": "9NeBw_rbHWay"
      },
      "source": [
        "### Logistic Regression"
      ]
    },
    {
      "cell_type": "code",
      "execution_count": 7,
      "metadata": {
        "colab": {
          "base_uri": "https://localhost:8080/"
        },
        "id": "gIP6x28zF_aL",
        "outputId": "0180e593-06e9-4ec7-a05b-24ad824606ad"
      },
      "outputs": [
        {
          "data": {
            "text/plain": [
              "0.6342105263157894"
            ]
          },
          "execution_count": 7,
          "metadata": {},
          "output_type": "execute_result"
        }
      ],
      "source": [
        "clf = LogisticRegression(random_state=0).fit(X, y)\n",
        "clf.score(X, y)"
      ]
    },
    {
      "cell_type": "markdown",
      "metadata": {
        "id": "l0nMdQb6HYTL"
      },
      "source": [
        "### Decision Tree"
      ]
    },
    {
      "cell_type": "code",
      "execution_count": 8,
      "metadata": {
        "colab": {
          "base_uri": "https://localhost:8080/"
        },
        "id": "9pribsSfHd2I",
        "outputId": "251447b9-aae2-41f2-c693-35c67a270a31"
      },
      "outputs": [
        {
          "data": {
            "text/plain": [
              "0.9947368421052631"
            ]
          },
          "execution_count": 8,
          "metadata": {},
          "output_type": "execute_result"
        }
      ],
      "source": [
        "clf_dt = DecisionTreeClassifier().fit(X,y)\n",
        "clf_dt.score(X, y)"
      ]
    },
    {
      "cell_type": "code",
      "execution_count": 9,
      "metadata": {
        "colab": {
          "base_uri": "https://localhost:8080/",
          "height": 248
        },
        "id": "IHZKariWJhKG",
        "outputId": "5293e0a9-9c25-4ea6-d7ac-c3544f26e03e"
      },
      "outputs": [
        {
          "data": {
            "image/png": "[encoded data removed]",
            "text/plain": [
              "<Figure size 432x288 with 1 Axes>"
            ]
          },
          "metadata": {
            "needs_background": "light"
          },
          "output_type": "display_data"
        }
      ],
      "source": [
        "tree.plot_tree(clf_dt)\n",
        "plt.show()"
      ]
    },
    {
      "cell_type": "code",
      "execution_count": 14,
      "metadata": {
        "id": "JeNTPSwmKBI8"
      },
      "outputs": [],
      "source": [
        "def get_user_input():\n",
        "  while True:\n",
        "    try:\n",
        "      age = int(input(\"Give customer age: \"))\n",
        "      salary = int(input(\"Provide customer salary: \"))\n",
        "      return age, salary\n",
        "    except ValueError:\n",
        "      print(\"Provide a number representing user age and salary!\")\n",
        "\n",
        "def predict_if_user_buy(model):\n",
        "  age, salary = get_user_input()\n",
        "  x = pd.DataFrame({'Age': [age], 'Salary': [salary]})\n",
        "\n",
        "  return \"User will buy a watch\" if model.predict(x)[0] else \"User will not buy a watch\""
      ]
    },
    {
      "cell_type": "code",
      "execution_count": 17,
      "metadata": {
        "colab": {
          "base_uri": "https://localhost:8080/",
          "height": 70
        },
        "id": "SIok3MfKKTBF",
        "outputId": "77778b80-2756-4ff1-ceb7-a7aa8b4356e1"
      },
      "outputs": [
        {
          "data": {
            "text/plain": [
              "'User will buy a watch'"
            ]
          },
          "execution_count": 17,
          "metadata": {},
          "output_type": "execute_result"
        }
      ],
      "source": [
        "predict_if_user_buy(clf_dt)"
      ]
    }
  ],
  "metadata": {
    "colab": {
      "provenance": []
    },
    "kernelspec": {
      "display_name": "Python 3",
      "language": "python",
      "name": "python3"
    },
    "language_info": {
      "codemirror_mode": {
        "name": "ipython",
        "version": 3
      },
      "file_extension": ".py",
      "mimetype": "text/x-python",
      "name": "python",
      "nbconvert_exporter": "python",
      "pygments_lexer": "ipython3",
      "version": "3.8.5"
    },
    "orig_nbformat": 4,
    "vscode": {
      "interpreter": {
        "hash": "52634da84371cba311ea128a5ea7cdc41ff074b781779e754b270ff9f8153cee"
      }
    }
  },
  "nbformat": 4,
  "nbformat_minor": 0
}
